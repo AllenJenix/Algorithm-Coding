{
 "cells": [
  {
   "cell_type": "code",
   "execution_count": 23,
   "outputs": [
    {
     "name": "stdout",
     "output_type": "stream",
     "text": [
      "152\n",
      "70\n"
     ]
    }
   ],
   "source": [
    "# 2054번\n",
    "\n",
    "# 2\n",
    "# 4\n",
    "# 24 13 89 37\n",
    "# 6\n",
    "# 7 30 41 14 39 42\n",
    "\n",
    "def shortest_route(parking_lot, shops):\n",
    "    result = 0\n",
    "    parking_lot.sort()\n",
    "    for i in range(shops - 1):\n",
    "        result += parking_lot[i + 1] - parking_lot[i]\n",
    "    result += parking_lot[-1] - parking_lot[0]\n",
    "    return result\n",
    "\n",
    "if __name__ == \"__main__\":\n",
    "    testcase = int(input())\n",
    "    for i in range(testcase):\n",
    "        shops = int(input())\n",
    "        parking_lot = list(map(int, input().split()))\n",
    "        print(shortest_route(parking_lot, shops))\n",
    "\n"
   ],
   "metadata": {
    "collapsed": false,
    "ExecuteTime": {
     "end_time": "2023-11-11T10:39:19.327376200Z",
     "start_time": "2023-11-11T10:39:08.373412800Z"
    }
   }
  },
  {
   "cell_type": "code",
   "execution_count": 2,
   "outputs": [
    {
     "ename": "SyntaxError",
     "evalue": "expected ':' (2126863353.py, line 19)",
     "output_type": "error",
     "traceback": [
      "\u001B[1;36m  Cell \u001B[1;32mIn[2], line 19\u001B[1;36m\u001B[0m\n\u001B[1;33m    for i in range()\u001B[0m\n\u001B[1;37m                    ^\u001B[0m\n\u001B[1;31mSyntaxError\u001B[0m\u001B[1;31m:\u001B[0m expected ':'\n"
     ]
    }
   ],
   "source": [
    "# 2309번\n",
    "\n",
    "# 기본 아이디어\n",
    "# 9개 중 7개의 합이 100이 되어야함.\n",
    "# 내림차순으로 정렬하고 가장 큰 수 7개의 합이 100이 아닐 경우 선택된 7개의 수 중에서 가장 작은 수를 더 작은 수로 선택해 봄으로써 값을 조정\n",
    "# 위의 경우 7개 중 6개는 fixed 상태, 1개는 searching 상태\n",
    "# 이 경우 9(total) - 6(fixed) = 3(searching)개의 searching이 필요함.\n",
    "# 마찬가지의 방법으로 쭉 탐색해나가면,\n",
    "# 9 - 5 = 4, 4C2(4개 중 2개 선택 경우의 수. 조합(Combination))\n",
    "# 9 - 4 = 5, 5C3(5개 중 3개 선택 경우의 수.)\n",
    "\n",
    "\n",
    "\n",
    "a = [20, 8, 23, 19, 10, 15, 25, 8, 13]\n",
    "a.sort(reverse=True)\n",
    "\n",
    "dwarfs = 7          # 난쟁이 수\n",
    "count = 1           # 탐색 변수\n",
    "sum_height = 100    # 합계 키\n",
    "\n",
    "for i in range():\n",
    "\n"
   ],
   "metadata": {
    "collapsed": false,
    "ExecuteTime": {
     "end_time": "2023-11-16T06:23:31.987387600Z",
     "start_time": "2023-11-16T06:23:31.972941700Z"
    }
   }
  },
  {
   "cell_type": "code",
   "execution_count": null,
   "outputs": [],
   "source": [],
   "metadata": {
    "collapsed": false
   }
  },
  {
   "cell_type": "markdown",
   "source": [],
   "metadata": {
    "collapsed": false
   }
  },
  {
   "cell_type": "code",
   "execution_count": null,
   "outputs": [],
   "source": [],
   "metadata": {
    "collapsed": false
   }
  },
  {
   "cell_type": "code",
   "execution_count": null,
   "outputs": [],
   "source": [],
   "metadata": {
    "collapsed": false
   }
  },
  {
   "cell_type": "code",
   "execution_count": null,
   "outputs": [],
   "source": [],
   "metadata": {
    "collapsed": false
   }
  },
  {
   "cell_type": "code",
   "execution_count": null,
   "outputs": [],
   "source": [],
   "metadata": {
    "collapsed": false
   }
  }
 ],
 "metadata": {
  "kernelspec": {
   "display_name": "Python 3",
   "language": "python",
   "name": "python3"
  },
  "language_info": {
   "codemirror_mode": {
    "name": "ipython",
    "version": 2
   },
   "file_extension": ".py",
   "mimetype": "text/x-python",
   "name": "python",
   "nbconvert_exporter": "python",
   "pygments_lexer": "ipython2",
   "version": "2.7.6"
  }
 },
 "nbformat": 4,
 "nbformat_minor": 0
}
